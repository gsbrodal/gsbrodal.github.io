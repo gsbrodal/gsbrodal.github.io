{
 "cells": [
  {
   "cell_type": "markdown",
   "metadata": {},
   "source": [
    "# PageRank - A numpy / Jupyter / matplotlib example\n",
    "\n",
    "In this Jupyter notebook we consider Google's PageRank computation. Nodes correspond to webpages and edges to links from one webpage to another webpage. We consider a very simple graph with only six _nodes_ and where every node has one or two outgoing _edges_. The original description of the PageRank computation can be found in the paper below that contains an overview of the original infrastructure of the Google search engine.\n",
    "\n",
    "* Sergey Brin and Lawrence Page.\n",
    "  _The Anatomy of a Large-Scale Hypertextual Web Search Engine_.\n",
    "  Seventh International World-Wide Web Conference (WWW 1998), April 14-18, 1998, Brisbane, Australia.\n",
    "  [http://ilpubs.stanford.edu:8090/361/]\n",
    "  \n",
    "<img src=\"pagerank.png\" height=\"300\" width=\"300\">\n",
    "\n",
    "## Random surfer (simplified)\n",
    "The PageRank of a node (web page) is the ratio of the time one visits a node by performing an _infinite random traversal_ of a graph where one starts in node 1, and in each step performs:\n",
    "\n",
    " * with probability 1/6 jumps to a random page (probability 1/6 for each node)\n",
    " * with probability 5/6 follows an outgoing edge to an adjacent node (selected uniformly)\n",
    " \n",
    "The above can be simulated by using a dice: Roll a dice. If it shows 6, jump to a random page by rolling the dice again to figure out which node to jump to. If the dice shows 1-5, follow an outgoing edge - if two outgoing edges roll the dice again and go to the lower number neighbor if it is odd."
   ]
  },
  {
   "cell_type": "markdown",
   "metadata": {},
   "source": [
    "## Graph represenation - _adjacency matrix_"
   ]
  },
  {
   "cell_type": "code",
   "execution_count": 22,
   "metadata": {},
   "outputs": [
    {
     "name": "stdout",
     "output_type": "stream",
     "text": [
      "[[0 1 0 0 0 0]\n",
      " [0 0 0 1 0 0]\n",
      " [1 1 0 0 0 0]\n",
      " [0 1 0 0 1 0]\n",
      " [0 1 0 0 0 1]\n",
      " [0 1 0 0 0 0]]\n"
     ]
    }
   ],
   "source": [
    "import numpy as np\n",
    "\n",
    "# Adjacency matrix of the above directed graph \n",
    "# (note that the rows/colums are 0-indexed, whereas in the figure the nodes are 1-indexed)\n",
    "\n",
    "G = np.array([[0, 1, 0, 0, 0, 0],\n",
    "              [0, 0, 0, 1, 0, 0],\n",
    "              [1, 1, 0, 0, 0, 0],\n",
    "              [0, 1, 0, 0, 1, 0],\n",
    "              [0, 1, 0, 0, 0, 1],\n",
    "              [0, 1, 0, 0, 0, 0]])\n",
    "\n",
    "n = G.shape[0]  # number of rows in G\n",
    "\n",
    "degree = np.sum(G, axis=1, keepdims=True)  # column vector with row sums = out-degrees\n",
    "\n",
    "# The below code handles sinks, i.e. nodes with outdegree zero\n",
    "# this has no effect on the graph above, since no sinks\n",
    "\n",
    "G = G + (degree == 0)  # add edges from sinks to all nodes \n",
    "degree = np.sum(G, axis=1, keepdims=True)\n",
    "\n",
    "print(G)"
   ]
  },
  {
   "cell_type": "markdown",
   "metadata": {},
   "source": [
    "## Simulate random walk (random surfer model)"
   ]
  },
  {
   "cell_type": "code",
   "execution_count": 27,
   "metadata": {},
   "outputs": [
    {
     "name": "stdout",
     "output_type": "stream",
     "text": [
      "[[1], [3], [0, 1], [1, 4], [1, 5], [1]]\n",
      "[0.039108 0.353342 0.027621 0.322408 0.162235 0.095286]\n"
     ]
    }
   ],
   "source": [
    "from random import randint\n",
    "\n",
    "STEPS = 1000000\n",
    "\n",
    "# adjacency_list[i] is a list of all j where (i, j) is an edge of the graph.\n",
    "adjacency_list = [[j for j, e in enumerate(row) if e] for row in G]\n",
    "\n",
    "count = np.zeros(n)         # histogram over number of node visits\n",
    "state = 0                   # start at node with index 0\n",
    "for _ in range(STEPS):\n",
    "    count[state] += 1       # increment count for state\n",
    "    if randint(1, 6) == 6:  # original paper uses 15% instead of 1/6\n",
    "        state = randint(0, 5)\n",
    "    else:\n",
    "        state = adjacency_list[state][randint(0, degree[state] - 1)]\n",
    "\n",
    "print(adjacency_list, count / STEPS, sep='\\n')"
   ]
  },
  {
   "cell_type": "code",
   "execution_count": 3,
   "metadata": {
    "scrolled": false
   },
   "outputs": [
    {
     "data": {
      "image/png": "[encoded data removed]",
      "text/plain": [
       "<Figure size 432x288 with 1 Axes>"
      ]
     },
     "metadata": {
      "needs_background": "light"
     },
     "output_type": "display_data"
    }
   ],
   "source": [
    "# To make matploblib figures interactive replace 'inline' by 'notebook'\n",
    "%matplotlib inline\n",
    "\n",
    "import matplotlib.pyplot as plt\n",
    "\n",
    "plt.bar(range(6), count)\n",
    "\n",
    "plt.title(\"Random Walk\")\n",
    "plt.xlabel(\"node\")\n",
    "plt.ylabel(\"number of visits\")\n",
    "plt.show()"
   ]
  },
  {
   "cell_type": "markdown",
   "metadata": {},
   "source": [
    "## Transition matrix"
   ]
  },
  {
   "cell_type": "code",
   "execution_count": 4,
   "metadata": {},
   "outputs": [
    {
     "name": "stdout",
     "output_type": "stream",
     "text": [
      "[[0.  1.  0.  0.  0.  0. ]\n",
      " [0.  0.  0.  1.  0.  0. ]\n",
      " [0.5 0.5 0.  0.  0.  0. ]\n",
      " [0.  0.5 0.  0.  0.5 0. ]\n",
      " [0.  0.5 0.  0.  0.  0.5]\n",
      " [0.  1.  0.  0.  0.  0. ]]\n"
     ]
    }
   ],
   "source": [
    "A = G / degree  # Normalize row-sums to one. Note that 'degree' \n",
    "                # is a n x 1 matrix, whereas G is an n x n matrix.\n",
    "                # The elementwise division is repeated for each column of G.\n",
    "       \n",
    "print(A)"
   ]
  },
  {
   "cell_type": "markdown",
   "metadata": {},
   "source": [
    "## Computation of transition matrix\n",
    "\n",
    "We now want to compute the probability $p^{(0)}_j$ to be in vertex $j$ after $i$ steps. Initially we have $p^{(0)}_0=1$ and $p^{(0)}_j=0$ for $j\\neq 0$. Let $p^{(i)}=(p^{(i)}_0,\\ldots,p^{(i)}_{n-1})$, i.e. $p^{(0)} = (1,0,\\ldots,0)$. We compute a matrix $M$, such that $p^{(i)} = M^i p$ (assuming p is a column vector). If we let $\\textbf{1}_n$ denote the $n\\times n$ matrix with one in each entry, then $M$ can be computed as:\n",
    "\n",
    "$$p^{(i+1)}_j = \\frac{1}{6} \\cdot \\frac{1}{n} + \\frac{5}{6} \\sum_k p^{(i)}_{k} \\cdot A_{k, j}$$\n",
    "\n",
    "$$p^{(i+1)} = M \\cdot p^{(i)}$$\n",
    "\n",
    "$$M = \\frac{1}{6}\\cdot\\frac{1}{n}\\textbf{1}_n + \\frac{5}{6} A^\\mathrm{T}$$"
   ]
  },
  {
   "cell_type": "code",
   "execution_count": 5,
   "metadata": {},
   "outputs": [
    {
     "name": "stdout",
     "output_type": "stream",
     "text": [
      "[[0.03935185]\n",
      " [0.35326184]\n",
      " [0.02777778]\n",
      " [0.32230071]\n",
      " [0.16198059]\n",
      " [0.09532722]]\n"
     ]
    }
   ],
   "source": [
    "ITERATIONS = 20\n",
    "\n",
    "p_0 = np.zeros((n, 1))\n",
    "p_0[0, 0] = 1.0\n",
    "\n",
    "M = 1 / (6 * n) + 5 / 6 * A.T \n",
    "\n",
    "p = p_0\n",
    "prob = p  # 'prob' will contain each computed 'p' as a new column\n",
    "\n",
    "for _ in range(ITERATIONS):\n",
    "    p = M @ p\n",
    "    prob = np.append(prob, p, axis=1)\n",
    "  \n",
    "print(p)"
   ]
  },
  {
   "cell_type": "code",
   "execution_count": 6,
   "metadata": {},
   "outputs": [
    {
     "data": {
      "image/png": "[encoded data removed]",
      "text/plain": [
       "<Figure size 432x288 with 1 Axes>"
      ]
     },
     "metadata": {
      "needs_background": "light"
     },
     "output_type": "display_data"
    }
   ],
   "source": [
    "%matplotlib inline\n",
    "\n",
    "x = range(ITERATIONS + 1)\n",
    "for node in range(n):\n",
    "    plt.plot(x, prob[node], label=\"node %s\" % node)\n",
    "\n",
    "plt.xticks(x)\n",
    "plt.title(\"Random Surfer Probabilities\")\n",
    "plt.xlabel(\"Iterations\")\n",
    "plt.ylabel(\"Probability\")\n",
    "plt.legend()\n",
    "plt.show()"
   ]
  },
  {
   "cell_type": "markdown",
   "metadata": {},
   "source": [
    "## Repeated squaring\n",
    "Exploiting that for $k$ being a power of two, \n",
    "$$M \\cdot (M \\cdots (M \\cdot (M \\cdot p_\\mathrm{init}))) \n",
    "= M^k \\cdot p_\\mathrm{init}\n",
    "= M^{2^{\\log k}} \\cdot p_\\mathrm{init}\n",
    "= (\\cdots(((M^2)^2)^2)\\cdots)^2 \\cdot p_\\mathrm{init}$$ \n",
    "we can compute the PageRank vector with a reduced number of matrix multiplications."
   ]
  },
  {
   "cell_type": "code",
   "execution_count": 18,
   "metadata": {},
   "outputs": [
    {
     "name": "stdout",
     "output_type": "stream",
     "text": [
      "[[0.03935185]\n",
      " [0.35332637]\n",
      " [0.02777778]\n",
      " [0.32221711]\n",
      " [0.16203446]\n",
      " [0.09529243]]\n"
     ]
    }
   ],
   "source": [
    "from math import ceil, log\n",
    "\n",
    "MP = M\n",
    "for _ in range(1 + int(log(ITERATIONS, 2))):\n",
    "    MP = MP @ MP\n",
    "    \n",
    "p = MP @ p_0 \n",
    "\n",
    "print(p)"
   ]
  },
  {
   "cell_type": "markdown",
   "metadata": {},
   "source": [
    "## Computing eigen vector\n",
    "\n",
    "We want to find the vector $p$ where $M p = p$, i.e. we want to find an _eigen vector_ $p$ for the _eigen value_ $\\lambda=1$, where $|p|=1$."
   ]
  },
  {
   "cell_type": "code",
   "execution_count": 8,
   "metadata": {},
   "outputs": [
    {
     "name": "stdout",
     "output_type": "stream",
     "text": [
      "[0.03935185 0.3533267  0.02777778 0.32221669 0.16203473 0.09529225]\n"
     ]
    }
   ],
   "source": [
    "eigenvalues, eigenvectors = np.linalg.eig(M)\n",
    "\n",
    "#print(\"eigenvalues =\", eigenvalues)\n",
    "#print(\"eigenvectors =\", eigenvectors)\n",
    "idx = eigenvalues.argmax()  # find the largest eigen value (= 1)\n",
    "p =  np.real(eigenvectors[:, idx])  # .real returns the real part of complex numbers\n",
    "p /= p.sum()  # normalize p to have sum 1\n",
    "\n",
    "print(p)"
   ]
  },
  {
   "cell_type": "markdown",
   "metadata": {},
   "source": [
    "## Note on practicality\n",
    "In practice an explicit matrix for billions of nodes is infeassable, since the number of entries would be order of $10^{18}$. Instead one has to work with sparse matrices (in Python modul <tt>scipy.sparse</tt>) and stay with repeated multiplication."
   ]
  },
  {
   "cell_type": "markdown",
   "metadata": {},
   "source": [
    "## Time considerations\n",
    "\n",
    "You can arrive at the same results in many ways, but some are more efficient than others. In the example below a matrix is created with all values equal to 1/n in two different ways:\n",
    "\n",
    "  * First 1 / n is computed, and then filled into all entries of a new matrix.\n",
    "  * First a matrix is construct containing 1 in each entry, and then all entries are divided by the value n. "
   ]
  },
  {
   "cell_type": "code",
   "execution_count": 9,
   "metadata": {},
   "outputs": [
    {
     "name": "stdout",
     "output_type": "stream",
     "text": [
      "2.59 µs ± 154 ns per loop (mean ± std. dev. of 7 runs, 100000 loops each)\n"
     ]
    }
   ],
   "source": [
    "%%timeit\n",
    "np.full((n, n), 1 / n)  # n x n matrix with 1/n in all entries"
   ]
  },
  {
   "cell_type": "code",
   "execution_count": 10,
   "metadata": {},
   "outputs": [
    {
     "name": "stdout",
     "output_type": "stream",
     "text": [
      "3.86 µs ± 187 ns per loop (mean ± std. dev. of 7 runs, 100000 loops each)\n"
     ]
    }
   ],
   "source": [
    "%%timeit\n",
    "np.ones((n, n)) / n  # same as above, just slower"
   ]
  }
 ],
 "metadata": {
  "kernelspec": {
   "display_name": "Python 3",
   "language": "python",
   "name": "python3"
  },
  "language_info": {
   "codemirror_mode": {
    "name": "ipython",
    "version": 3
   },
   "file_extension": ".py",
   "mimetype": "text/x-python",
   "name": "python",
   "nbconvert_exporter": "python",
   "pygments_lexer": "ipython3",
   "version": "3.8.1"
  }
 },
 "nbformat": 4,
 "nbformat_minor": 2
}
